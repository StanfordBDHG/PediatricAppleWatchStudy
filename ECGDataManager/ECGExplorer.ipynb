{
 "cells": [
  {
   "cell_type": "markdown",
   "metadata": {
    "id": "xN6AzqrkbNjj"
   },
   "source": [
    "## Access Google drive directory"
   ]
  },
  {
   "cell_type": "code",
   "execution_count": null,
   "metadata": {
    "colab": {
     "base_uri": "https://localhost:8080/"
    },
    "executionInfo": {
     "elapsed": 46480,
     "status": "ok",
     "timestamp": 1717098406224,
     "user": {
      "displayName": "Paul Schmiedmayer",
      "userId": "00121624061289186088"
     },
     "user_tz": 420
    },
    "id": "Zr8QAbto-GYn",
    "outputId": "07f96dc4-3c4b-4fea-c838-99f41afcf2d8"
   },
   "outputs": [],
   "source": [
    "# from google.colab import drive\n",
    "# import os\n",
    "\n",
    "# drive.mount('/content/drive')\n",
    "\n",
    "# folder_path = '/content/drive/Shareddrives/PediatricAppleWatchStudy/ECGDataPipelineTemplate'\n",
    "# os.chdir(folder_path)\n",
    "\n",
    "# !pip install fhir.resources\n",
    "# !pip install -i https://test.pypi.org/simple/ spezi-data-pipeline==0.1.0b1"
   ]
  },
  {
   "cell_type": "markdown",
   "metadata": {
    "id": "Xwm6NyG_7efC"
   },
   "source": [
    "## Import Spezi Data Pipeline"
   ]
  },
  {
   "cell_type": "code",
   "execution_count": null,
   "metadata": {
    "executionInfo": {
     "elapsed": 6949,
     "status": "ok",
     "timestamp": 1717098416049,
     "user": {
      "displayName": "Paul Schmiedmayer",
      "userId": "00121624061289186088"
     },
     "user_tz": 420
    },
    "id": "ATUIZPCzS7TE"
   },
   "outputs": [],
   "source": [
    "from spezi_data_pipeline.data_access.firebase_fhir_data_access import FirebaseFHIRAccess\n",
    "from spezi_data_pipeline.data_flattening.fhir_resources_flattener import flatten_fhir_resources, FHIRDataFrame, ColumnNames\n",
    "from modules.visualization import ECGDataExplorer\n",
    "from modules.utils import process_ecg_data, export_database_in_csv"
   ]
  },
  {
   "cell_type": "markdown",
   "metadata": {
    "id": "OnSrBj3Q4Wl1"
   },
   "source": [
    "### Download the ECG data"
   ]
  },
  {
   "cell_type": "code",
   "execution_count": null,
   "metadata": {
    "executionInfo": {
     "elapsed": 16215,
     "status": "ok",
     "timestamp": 1717098433453,
     "user": {
      "displayName": "Paul Schmiedmayer",
      "userId": "00121624061289186088"
     },
     "user_tz": 420
    },
    "id": "4Lj5dOu8XeAS"
   },
   "outputs": [],
   "source": [
    "# Define the project's credentials\n",
    "project_id = \"cs342-2023-paws\"\n",
    "service_account_key_file = \"Service account key/cs342-2023-paws-firebase-adminsdk-cz0fu-444bf65586.json\"\n",
    "\n",
    "# Connect to Firestore\n",
    "firebase_access = FirebaseFHIRAccess(project_id, service_account_key_file)\n",
    "firebase_access.connect()\n",
    "\n",
    "# Download and process data\n",
    "fhir_observations = firebase_access.fetch_data(\"users\", \"HealthKit\", [\"131328\"])\n",
    "flattened_fhir_dataframe = flatten_fhir_resources(fhir_observations)\n",
    "\n",
    "ecg_data = process_ecg_data(firebase_access.db, flattened_fhir_dataframe.df)"
   ]
  },
  {
   "cell_type": "markdown",
   "metadata": {
    "id": "3wWQQIwZ4Wl1"
   },
   "source": [
    "### Preview the ECG data"
   ]
  },
  {
   "cell_type": "code",
   "execution_count": null,
   "metadata": {
    "colab": {
     "base_uri": "https://localhost:8080/",
     "height": 491
    },
    "executionInfo": {
     "elapsed": 166,
     "status": "ok",
     "timestamp": 1717098437806,
     "user": {
      "displayName": "Paul Schmiedmayer",
      "userId": "00121624061289186088"
     },
     "user_tz": 420
    },
    "id": "3K5D199r4Wl2",
    "outputId": "ccb77e8a-b78f-4181-ddf1-0ea85bedbde4"
   },
   "outputs": [],
   "source": [
    "ecg_data.head()"
   ]
  },
  {
   "cell_type": "markdown",
   "metadata": {
    "id": "f9yiIRrfoZVc"
   },
   "source": [
    "### Export the database in .CSV format"
   ]
  },
  {
   "cell_type": "code",
   "execution_count": null,
   "metadata": {
    "executionInfo": {
     "elapsed": 2096,
     "status": "ok",
     "timestamp": 1717098443306,
     "user": {
      "displayName": "Paul Schmiedmayer",
      "userId": "00121624061289186088"
     },
     "user_tz": 420
    },
    "id": "iFSFsE8y9cSK"
   },
   "outputs": [],
   "source": [
    "database = export_database_in_csv(ecg_data)"
   ]
  },
  {
   "cell_type": "markdown",
   "metadata": {
    "id": "vhZkMZNIoiFB"
   },
   "source": [
    "## Edit ECG recordings"
   ]
  },
  {
   "cell_type": "code",
   "execution_count": null,
   "metadata": {
    "colab": {
     "base_uri": "https://localhost:8080/",
     "height": 251,
     "referenced_widgets": [
      "76745641fef04b44add66db2b8925d04",
      "05ed828c9aac4c44853edd3fc9d04b45",
      "c685fba663af4a02ab6b203b57d197e4",
      "8f9688393555475dad02f076c78dcd67",
      "0854a5f32d014ec9807e19bdeb01f7ff",
      "bfe4492b7a024cf9bc943b7d614ac19a",
      "5f82451c486b4e43b433336bfe8b41d6",
      "8ed8b340bab24100bb248c664a08598f",
      "99e066b8875442e7b304fdf8ffee7bd1",
      "5742a62eb0d1432cb0e61646a535e5c3",
      "4437204f29db469ca691caa4809261d6",
      "8408223c740549c490c9c819ba6db3ea",
      "bb7fd8e863224fecb84add8803a01f41",
      "05977a19b9cf4b30ba48d3eb51d1fcbf",
      "57d75adb0b6247c89e296dd9fc20dabe",
      "592a3c03e21c475191e0aa9c34d7b8ca",
      "d9e482f90acc4996831e65b1b8858b4e"
     ]
    },
    "executionInfo": {
     "elapsed": 346,
     "status": "ok",
     "timestamp": 1717098447288,
     "user": {
      "displayName": "Paul Schmiedmayer",
      "userId": "00121624061289186088"
     },
     "user_tz": 420
    },
    "id": "wzI53hyL4Wl3",
    "outputId": "7be539f8-c516-428e-d7eb-01667afedf09"
   },
   "outputs": [],
   "source": [
    "data_explorer_ui = ECGDataExplorer(ecg_data)"
   ]
  }
 ],
 "metadata": {
  "colab": {
   "provenance": []
  },
  "kernelspec": {
   "display_name": "Python 3 (ipykernel)",
   "language": "python",
   "name": "python3"
  },
  "language_info": {
   "codemirror_mode": {
    "name": "ipython",
    "version": 3
   },
   "file_extension": ".py",
   "mimetype": "text/x-python",
   "name": "python",
   "nbconvert_exporter": "python",
   "pygments_lexer": "ipython3",
   "version": "3.10.9"
  },
  "widgets": {
   "application/vnd.jupyter.widget-state+json": {
    "05977a19b9cf4b30ba48d3eb51d1fcbf": {
     "model_module": "@jupyter-widgets/base",
     "model_module_version": "1.2.0",
     "model_name": "LayoutModel",
     "state": {
      "_model_module": "@jupyter-widgets/base",
      "_model_module_version": "1.2.0",
      "_model_name": "LayoutModel",
      "_view_count": null,
      "_view_module": "@jupyter-widgets/base",
      "_view_module_version": "1.2.0",
      "_view_name": "LayoutView",
      "align_content": null,
      "align_items": null,
      "align_self": null,
      "border": null,
      "bottom": null,
      "display": null,
      "flex": null,
      "flex_flow": null,
      "grid_area": null,
      "grid_auto_columns": null,
      "grid_auto_flow": null,
      "grid_auto_rows": null,
      "grid_column": null,
      "grid_gap": null,
      "grid_row": null,
      "grid_template_areas": null,
      "grid_template_columns": null,
      "grid_template_rows": null,
      "height": "50px",
      "justify_content": null,
      "justify_items": null,
      "left": null,
      "margin": null,
      "max_height": null,
      "max_width": null,
      "min_height": null,
      "min_width": null,
      "object_fit": null,
      "object_position": null,
      "order": null,
      "overflow": null,
      "overflow_x": null,
      "overflow_y": null,
      "padding": "10px 40px 10px 40px",
      "right": null,
      "top": null,
      "visibility": null,
      "width": "200px"
     }
    },
    "05ed828c9aac4c44853edd3fc9d04b45": {
     "model_module": "@jupyter-widgets/base",
     "model_module_version": "1.2.0",
     "model_name": "LayoutModel",
     "state": {
      "_model_module": "@jupyter-widgets/base",
      "_model_module_version": "1.2.0",
      "_model_name": "LayoutModel",
      "_view_count": null,
      "_view_module": "@jupyter-widgets/base",
      "_view_module_version": "1.2.0",
      "_view_name": "LayoutView",
      "align_content": null,
      "align_items": null,
      "align_self": null,
      "border": null,
      "bottom": null,
      "display": null,
      "flex": null,
      "flex_flow": null,
      "grid_area": null,
      "grid_auto_columns": null,
      "grid_auto_flow": null,
      "grid_auto_rows": null,
      "grid_column": null,
      "grid_gap": null,
      "grid_row": null,
      "grid_template_areas": null,
      "grid_template_columns": null,
      "grid_template_rows": null,
      "height": null,
      "justify_content": null,
      "justify_items": null,
      "left": null,
      "margin": null,
      "max_height": null,
      "max_width": null,
      "min_height": null,
      "min_width": null,
      "object_fit": null,
      "object_position": null,
      "order": null,
      "overflow": null,
      "overflow_x": null,
      "overflow_y": null,
      "padding": "10px 0px 30px 40px",
      "right": null,
      "top": null,
      "visibility": null,
      "width": null
     }
    },
    "0854a5f32d014ec9807e19bdeb01f7ff": {
     "model_module": "@jupyter-widgets/base",
     "model_module_version": "1.2.0",
     "model_name": "LayoutModel",
     "state": {
      "_model_module": "@jupyter-widgets/base",
      "_model_module_version": "1.2.0",
      "_model_name": "LayoutModel",
      "_view_count": null,
      "_view_module": "@jupyter-widgets/base",
      "_view_module_version": "1.2.0",
      "_view_name": "LayoutView",
      "align_content": null,
      "align_items": null,
      "align_self": null,
      "border": null,
      "bottom": null,
      "display": null,
      "flex": null,
      "flex_flow": null,
      "grid_area": null,
      "grid_auto_columns": null,
      "grid_auto_flow": null,
      "grid_auto_rows": null,
      "grid_column": null,
      "grid_gap": null,
      "grid_row": null,
      "grid_template_areas": null,
      "grid_template_columns": null,
      "grid_template_rows": null,
      "height": null,
      "justify_content": null,
      "justify_items": null,
      "left": null,
      "margin": null,
      "max_height": null,
      "max_width": null,
      "min_height": null,
      "min_width": null,
      "object_fit": null,
      "object_position": null,
      "order": null,
      "overflow": null,
      "overflow_x": null,
      "overflow_y": null,
      "padding": "10px 0px 30px 40px",
      "right": null,
      "top": null,
      "visibility": null,
      "width": null
     }
    },
    "4437204f29db469ca691caa4809261d6": {
     "model_module": "@jupyter-widgets/base",
     "model_module_version": "1.2.0",
     "model_name": "LayoutModel",
     "state": {
      "_model_module": "@jupyter-widgets/base",
      "_model_module_version": "1.2.0",
      "_model_name": "LayoutModel",
      "_view_count": null,
      "_view_module": "@jupyter-widgets/base",
      "_view_module_version": "1.2.0",
      "_view_name": "LayoutView",
      "align_content": null,
      "align_items": null,
      "align_self": null,
      "border": null,
      "bottom": null,
      "display": null,
      "flex": null,
      "flex_flow": null,
      "grid_area": null,
      "grid_auto_columns": null,
      "grid_auto_flow": null,
      "grid_auto_rows": null,
      "grid_column": null,
      "grid_gap": null,
      "grid_row": null,
      "grid_template_areas": null,
      "grid_template_columns": null,
      "grid_template_rows": null,
      "height": null,
      "justify_content": null,
      "justify_items": null,
      "left": null,
      "margin": null,
      "max_height": null,
      "max_width": null,
      "min_height": null,
      "min_width": null,
      "object_fit": null,
      "object_position": null,
      "order": null,
      "overflow": null,
      "overflow_x": null,
      "overflow_y": null,
      "padding": "10px 0px 40px 40px",
      "right": null,
      "top": null,
      "visibility": null,
      "width": null
     }
    },
    "5742a62eb0d1432cb0e61646a535e5c3": {
     "model_module": "@jupyter-widgets/controls",
     "model_module_version": "1.5.0",
     "model_name": "DropdownModel",
     "state": {
      "_dom_classes": [],
      "_model_module": "@jupyter-widgets/controls",
      "_model_module_version": "1.5.0",
      "_model_name": "DropdownModel",
      "_options_labels": [
       "All",
       "2024-05-04T19:37:30.835116982-07:00",
       "2023-03-13T12:32:30.076866984-07:00",
       "2023-03-14T23:32:22.867895007-07:00",
       "2024-03-27T21:45:57.256615996-07:00",
       "2024-03-27T21:43:37.013386011-07:00",
       "2024-03-13T18:31:16.407909989-07:00",
       "2024-03-13T16:49:31.214426994-07:00",
       "2024-03-13T18:30:40.732305049-07:00",
       "2024-03-13T18:36:22.553972005-07:00",
       "2024-03-13T09:31:56.34306097-07:00",
       "2024-04-22T21:45:45.599385976-07:00",
       "2024-04-22T21:43:04.400894045-07:00",
       "2024-04-22T21:38:51.015216946-07:00",
       "2024-04-22T21:41:05.607817053-07:00",
       "2024-04-29T13:38:09.181584954-07:00",
       "2024-04-22T21:43:56.854102015-07:00",
       "2024-04-22T21:49:25.696153998-07:00",
       "2024-05-05T20:21:17.613011956-07:00",
       "2024-04-29T13:24:08.121121048-07:00",
       "2024-05-05T20:19:55.335778951-07:00",
       "2024-05-07T07:10:24.404348969-07:00",
       "2024-04-23T08:18:13.237027049-07:00",
       "2024-05-07T07:09:31.168372035-07:00",
       "2024-05-07T07:08:52.503507018-07:00",
       "2024-04-23T08:19:17.484333038-07:00",
       "2024-03-27T21:44:43.491747021-07:00",
       "2024-03-27T21:45:20.859274983-07:00",
       "2024-05-23T13:17:22.264281988-07:00",
       "2024-03-27T16:33:23.078871011-07:00",
       "2023-03-11T17:40:59.200332999-08:00",
       "2023-03-14T21:50:50.239500999-07:00",
       "2023-03-30T20:56:28.269788026-07:00",
       "2023-03-14T19:15:50.896329998-07:00",
       "2023-03-13T12:53:27.372419953-07:00",
       "2024-04-19T16:54:05.986477971-07:00",
       "2024-04-28T15:54:24.220170021-07:00",
       "2024-03-02T09:05:01.883867025-07:00",
       "2024-02-22T21:45:14.363880991-07:00",
       "2024-03-03T22:22:23.453909993-07:00",
       "2024-03-28T15:53:22.317499995-07:00",
       "2024-03-21T13:18:07.034345984-07:00",
       "2024-03-12T14:51:32.831869006-07:00",
       "2024-03-28T12:59:35.483345031-07:00",
       "2024-03-21T15:16:54.27592194-07:00",
       "2024-02-26T09:41:55.209885001-07:00",
       "2024-02-27T17:56:22.087548017-07:00",
       "2024-02-24T08:04:32.908949971-07:00",
       "2024-03-28T15:28:20.737308979-07:00",
       "2024-03-20T13:04:55.263805031-07:00",
       "2024-03-28T16:15:16.390776991-07:00",
       "2024-03-28T15:20:22.586887001-07:00",
       "2024-05-29T10:24:29.656123042-07:00"
      ],
      "_view_count": null,
      "_view_module": "@jupyter-widgets/controls",
      "_view_module_version": "1.5.0",
      "_view_name": "DropdownView",
      "description": "Date",
      "description_tooltip": null,
      "disabled": false,
      "index": 0,
      "layout": "IPY_MODEL_4437204f29db469ca691caa4809261d6",
      "style": "IPY_MODEL_8408223c740549c490c9c819ba6db3ea"
     }
    },
    "57d75adb0b6247c89e296dd9fc20dabe": {
     "model_module": "@jupyter-widgets/controls",
     "model_module_version": "1.5.0",
     "model_name": "ButtonStyleModel",
     "state": {
      "_model_module": "@jupyter-widgets/controls",
      "_model_module_version": "1.5.0",
      "_model_name": "ButtonStyleModel",
      "_view_count": null,
      "_view_module": "@jupyter-widgets/base",
      "_view_module_version": "1.2.0",
      "_view_name": "StyleView",
      "button_color": null,
      "font_weight": ""
     }
    },
    "592a3c03e21c475191e0aa9c34d7b8ca": {
     "model_module": "@jupyter-widgets/output",
     "model_module_version": "1.0.0",
     "model_name": "OutputModel",
     "state": {
      "_dom_classes": [],
      "_model_module": "@jupyter-widgets/output",
      "_model_module_version": "1.0.0",
      "_model_name": "OutputModel",
      "_view_count": null,
      "_view_module": "@jupyter-widgets/output",
      "_view_module_version": "1.0.0",
      "_view_name": "OutputView",
      "layout": "IPY_MODEL_d9e482f90acc4996831e65b1b8858b4e",
      "msg_id": "",
      "outputs": []
     }
    },
    "5f82451c486b4e43b433336bfe8b41d6": {
     "model_module": "@jupyter-widgets/controls",
     "model_module_version": "1.5.0",
     "model_name": "DropdownModel",
     "state": {
      "_dom_classes": [],
      "_model_module": "@jupyter-widgets/controls",
      "_model_module_version": "1.5.0",
      "_model_name": "DropdownModel",
      "_options_labels": [
       "All",
       "k3BnzOGAO0fIaxkDVXTZKlj3LAu2",
       "3EUoHxIuYkWMKcnLfK38nTGOqHn1",
       "lHFbIkvlneMV0N2oUqhLy2QchVQ2",
       "xfKGF0hmrwXjjrMlZZdTc5h6NXi1",
       "yFEFPzCdfXUkJycqBFgapmJMmG72",
       "7uMKVmPZdwgtb9hc6r9YZyYXnwc2",
       "4HGAZNubNpXoqnEd6HwbJFq51Ck1"
      ],
      "_view_count": null,
      "_view_module": "@jupyter-widgets/controls",
      "_view_module_version": "1.5.0",
      "_view_name": "DropdownView",
      "description": "User ID",
      "description_tooltip": null,
      "disabled": false,
      "index": 0,
      "layout": "IPY_MODEL_8ed8b340bab24100bb248c664a08598f",
      "style": "IPY_MODEL_99e066b8875442e7b304fdf8ffee7bd1"
     }
    },
    "76745641fef04b44add66db2b8925d04": {
     "model_module": "@jupyter-widgets/controls",
     "model_module_version": "1.5.0",
     "model_name": "DropdownModel",
     "state": {
      "_dom_classes": [],
      "_model_module": "@jupyter-widgets/controls",
      "_model_module_version": "1.5.0",
      "_model_name": "DropdownModel",
      "_options_labels": [
       "All",
       "Child",
       "Adult"
      ],
      "_view_count": null,
      "_view_module": "@jupyter-widgets/controls",
      "_view_module_version": "1.5.0",
      "_view_name": "DropdownView",
      "description": "Age Group",
      "description_tooltip": null,
      "disabled": false,
      "index": 0,
      "layout": "IPY_MODEL_05ed828c9aac4c44853edd3fc9d04b45",
      "style": "IPY_MODEL_c685fba663af4a02ab6b203b57d197e4"
     }
    },
    "8408223c740549c490c9c819ba6db3ea": {
     "model_module": "@jupyter-widgets/controls",
     "model_module_version": "1.5.0",
     "model_name": "DescriptionStyleModel",
     "state": {
      "_model_module": "@jupyter-widgets/controls",
      "_model_module_version": "1.5.0",
      "_model_name": "DescriptionStyleModel",
      "_view_count": null,
      "_view_module": "@jupyter-widgets/base",
      "_view_module_version": "1.2.0",
      "_view_name": "StyleView",
      "description_width": ""
     }
    },
    "8ed8b340bab24100bb248c664a08598f": {
     "model_module": "@jupyter-widgets/base",
     "model_module_version": "1.2.0",
     "model_name": "LayoutModel",
     "state": {
      "_model_module": "@jupyter-widgets/base",
      "_model_module_version": "1.2.0",
      "_model_name": "LayoutModel",
      "_view_count": null,
      "_view_module": "@jupyter-widgets/base",
      "_view_module_version": "1.2.0",
      "_view_name": "LayoutView",
      "align_content": null,
      "align_items": null,
      "align_self": null,
      "border": null,
      "bottom": null,
      "display": null,
      "flex": null,
      "flex_flow": null,
      "grid_area": null,
      "grid_auto_columns": null,
      "grid_auto_flow": null,
      "grid_auto_rows": null,
      "grid_column": null,
      "grid_gap": null,
      "grid_row": null,
      "grid_template_areas": null,
      "grid_template_columns": null,
      "grid_template_rows": null,
      "height": null,
      "justify_content": null,
      "justify_items": null,
      "left": null,
      "margin": null,
      "max_height": null,
      "max_width": null,
      "min_height": null,
      "min_width": null,
      "object_fit": null,
      "object_position": null,
      "order": null,
      "overflow": null,
      "overflow_x": null,
      "overflow_y": null,
      "padding": "10px 0px 30px 40px",
      "right": null,
      "top": null,
      "visibility": null,
      "width": null
     }
    },
    "8f9688393555475dad02f076c78dcd67": {
     "model_module": "@jupyter-widgets/controls",
     "model_module_version": "1.5.0",
     "model_name": "DropdownModel",
     "state": {
      "_dom_classes": [],
      "_model_module": "@jupyter-widgets/controls",
      "_model_module_version": "1.5.0",
      "_model_name": "DropdownModel",
      "_options_labels": [
       "All",
       "inconclusiveOther",
       "sinusRhythm"
      ],
      "_view_count": null,
      "_view_module": "@jupyter-widgets/controls",
      "_view_module_version": "1.5.0",
      "_view_name": "DropdownView",
      "description": "ECG Class",
      "description_tooltip": null,
      "disabled": false,
      "index": 0,
      "layout": "IPY_MODEL_0854a5f32d014ec9807e19bdeb01f7ff",
      "style": "IPY_MODEL_bfe4492b7a024cf9bc943b7d614ac19a"
     }
    },
    "99e066b8875442e7b304fdf8ffee7bd1": {
     "model_module": "@jupyter-widgets/controls",
     "model_module_version": "1.5.0",
     "model_name": "DescriptionStyleModel",
     "state": {
      "_model_module": "@jupyter-widgets/controls",
      "_model_module_version": "1.5.0",
      "_model_name": "DescriptionStyleModel",
      "_view_count": null,
      "_view_module": "@jupyter-widgets/base",
      "_view_module_version": "1.2.0",
      "_view_name": "StyleView",
      "description_width": ""
     }
    },
    "bb7fd8e863224fecb84add8803a01f41": {
     "model_module": "@jupyter-widgets/controls",
     "model_module_version": "1.5.0",
     "model_name": "ButtonModel",
     "state": {
      "_dom_classes": [],
      "_model_module": "@jupyter-widgets/controls",
      "_model_module_version": "1.5.0",
      "_model_name": "ButtonModel",
      "_view_count": null,
      "_view_module": "@jupyter-widgets/controls",
      "_view_module_version": "1.5.0",
      "_view_name": "ButtonView",
      "button_style": "success",
      "description": "LOAD DATA+",
      "disabled": false,
      "icon": "",
      "layout": "IPY_MODEL_05977a19b9cf4b30ba48d3eb51d1fcbf",
      "style": "IPY_MODEL_57d75adb0b6247c89e296dd9fc20dabe",
      "tooltip": ""
     }
    },
    "bfe4492b7a024cf9bc943b7d614ac19a": {
     "model_module": "@jupyter-widgets/controls",
     "model_module_version": "1.5.0",
     "model_name": "DescriptionStyleModel",
     "state": {
      "_model_module": "@jupyter-widgets/controls",
      "_model_module_version": "1.5.0",
      "_model_name": "DescriptionStyleModel",
      "_view_count": null,
      "_view_module": "@jupyter-widgets/base",
      "_view_module_version": "1.2.0",
      "_view_name": "StyleView",
      "description_width": ""
     }
    },
    "c685fba663af4a02ab6b203b57d197e4": {
     "model_module": "@jupyter-widgets/controls",
     "model_module_version": "1.5.0",
     "model_name": "DescriptionStyleModel",
     "state": {
      "_model_module": "@jupyter-widgets/controls",
      "_model_module_version": "1.5.0",
      "_model_name": "DescriptionStyleModel",
      "_view_count": null,
      "_view_module": "@jupyter-widgets/base",
      "_view_module_version": "1.2.0",
      "_view_name": "StyleView",
      "description_width": ""
     }
    },
    "d9e482f90acc4996831e65b1b8858b4e": {
     "model_module": "@jupyter-widgets/base",
     "model_module_version": "1.2.0",
     "model_name": "LayoutModel",
     "state": {
      "_model_module": "@jupyter-widgets/base",
      "_model_module_version": "1.2.0",
      "_model_name": "LayoutModel",
      "_view_count": null,
      "_view_module": "@jupyter-widgets/base",
      "_view_module_version": "1.2.0",
      "_view_name": "LayoutView",
      "align_content": null,
      "align_items": null,
      "align_self": null,
      "border": null,
      "bottom": null,
      "display": null,
      "flex": null,
      "flex_flow": null,
      "grid_area": null,
      "grid_auto_columns": null,
      "grid_auto_flow": null,
      "grid_auto_rows": null,
      "grid_column": null,
      "grid_gap": null,
      "grid_row": null,
      "grid_template_areas": null,
      "grid_template_columns": null,
      "grid_template_rows": null,
      "height": null,
      "justify_content": null,
      "justify_items": null,
      "left": null,
      "margin": null,
      "max_height": null,
      "max_width": null,
      "min_height": null,
      "min_width": null,
      "object_fit": null,
      "object_position": null,
      "order": null,
      "overflow": null,
      "overflow_x": null,
      "overflow_y": null,
      "padding": null,
      "right": null,
      "top": null,
      "visibility": null,
      "width": null
     }
    }
   }
  }
 },
 "nbformat": 4,
 "nbformat_minor": 4
}
